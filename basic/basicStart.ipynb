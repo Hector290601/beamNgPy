{
 "cells": [
  {
   "cell_type": "markdown",
   "metadata": {
    "collapsed": true,
    "pycharm": {
     "name": "#%% md\n"
    }
   },
   "source": [
    "# Uso básico del simulador.\n",
    "## Se coloca un automovil controlable por el usuario en un mapa default."
   ]
  },
  {
   "cell_type": "markdown",
   "source": [
    "### Importar librerías."
   ],
   "metadata": {
    "collapsed": false,
    "pycharm": {
     "name": "#%% md\n"
    }
   }
  },
  {
   "cell_type": "code",
   "execution_count": 26,
   "outputs": [],
   "source": [
    "# Librerías necesarias para trabajar\n",
    "from beamngpy import BeamNGpy, Scenario, Vehicle"
   ],
   "metadata": {
    "collapsed": false,
    "pycharm": {
     "name": "#%%\n"
    }
   }
  },
  {
   "cell_type": "markdown",
   "source": [
    "### Abrir el simulador\n",
    "###### Esto puede llevar bastante tiempo, dependiendo del equipo."
   ],
   "metadata": {
    "collapsed": false,
    "pycharm": {
     "name": "#%% md\n"
    }
   }
  },
  {
   "cell_type": "code",
   "execution_count": 27,
   "outputs": [
    {
     "data": {
      "text/plain": "<beamngpy.beamng.BeamNGpy at 0x1f8dc832040>"
     },
     "execution_count": 27,
     "metadata": {},
     "output_type": "execute_result"
    }
   ],
   "source": [
    "bng = BeamNGpy(\n",
    "    # Inicia el servidor en el local host\n",
    "    'localhost',\n",
    "    # Selecciona el puerto\n",
    "    64256,\n",
    "    # Cambiar por el path de abajo al path donde se tengan\n",
    "    # Los archivos binarios de BeamNG\n",
    "    home= 'C:\\\\Users\\\\hrmha\\\\Documents\\\\BeamNG.tech\\\\BeamNG.tech.v0.21.3.0'\n",
    ")\n",
    "# Abir el simulador\n",
    "bng.open()"
   ],
   "metadata": {
    "collapsed": false,
    "pycharm": {
     "name": "#%%\n"
    }
   }
  },
  {
   "cell_type": "markdown",
   "source": [
    "### Crear el escenario y cargarlo al simulador"
   ],
   "metadata": {
    "collapsed": false,
    "pycharm": {
     "name": "#%% md\n"
    }
   }
  },
  {
   "cell_type": "code",
   "execution_count": 28,
   "outputs": [],
   "source": [
    "# Carga el escenario West Coast USA\n",
    "scenario = Scenario('west_coast_usa', 'Hola_BeamNGPY')\n",
    "# Construye el escenario mediante archivos para mostrarlo mediante el simulador\n",
    "scenario.make(bng)\n",
    "# Carga el escenario dado en la simulación y lo regresa procesado una vez terminado\n",
    "bng.load_scenario(scenario)\n",
    "# Inicia el escenario\n",
    "bng.start_scenario()"
   ],
   "metadata": {
    "collapsed": false,
    "pycharm": {
     "name": "#%%\n"
    }
   }
  },
  {
   "cell_type": "markdown",
   "source": [
    "### Crear el Vehículo que se mostrará"
   ],
   "metadata": {
    "collapsed": false,
    "pycharm": {
     "name": "#%% md\n"
    }
   }
  },
  {
   "cell_type": "code",
   "execution_count": 29,
   "outputs": [],
   "source": [
    "vehicle = Vehicle(\n",
    "    # ID del vehículo\n",
    "    'demo_vehicle',\n",
    "    # Modelo\n",
    "    model = 'pickup',\n",
    "    # Color del vehículo\n",
    "    colour='green',\n",
    "    # Licencia\n",
    "    licence='290601'\n",
    ")"
   ],
   "metadata": {
    "collapsed": false,
    "pycharm": {
     "name": "#%%\n"
    }
   }
  },
  {
   "cell_type": "markdown",
   "source": [
    "### Añadir el vehículo al escenario"
   ],
   "metadata": {
    "collapsed": false,
    "pycharm": {
     "name": "#%% md\n"
    }
   }
  },
  {
   "cell_type": "code",
   "execution_count": 30,
   "outputs": [],
   "source": [
    "scenario.add_vehicle(\n",
    "    # Objeto que querramos añadir\n",
    "    vehicle,\n",
    "    # Posición donde lo deseamos\n",
    "    pos=(568.908386, 13.4217358,  148.56546)\n",
    ")\n"
   ],
   "metadata": {
    "collapsed": false,
    "pycharm": {
     "name": "#%%\n"
    }
   }
  }
 ],
 "metadata": {
  "kernelspec": {
   "display_name": "Python 3",
   "language": "python",
   "name": "python3"
  },
  "language_info": {
   "codemirror_mode": {
    "name": "ipython",
    "version": 2
   },
   "file_extension": ".py",
   "mimetype": "text/x-python",
   "name": "python",
   "nbconvert_exporter": "python",
   "pygments_lexer": "ipython2",
   "version": "2.7.6"
  }
 },
 "nbformat": 4,
 "nbformat_minor": 0
}