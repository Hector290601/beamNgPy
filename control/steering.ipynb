{
 "cells": [
  {
   "cell_type": "markdown",
   "metadata": {
    "collapsed": true,
    "pycharm": {
     "name": "#%% md\n"
    }
   },
   "source": [
    "# Uso básico del control en el simulador.\n",
    "## Se coloca un automovil controlable por el usuario en un mapa default, posteriormente se utiliza la función _steering_ para cambiar la posición del volante.\n",
    "\n",
    "[Buy me a Coffe :)](buymeacoffee.com/Hector290601)"
   ]
  },
  {
   "cell_type": "markdown",
   "source": [
    "### Importar librerías."
   ],
   "metadata": {
    "collapsed": false,
    "pycharm": {
     "name": "#%% md\n"
    }
   }
  },
  {
   "cell_type": "code",
   "execution_count": 18,
   "outputs": [],
   "source": [
    "# Librerías necesarias para trabajar\n",
    "from beamngpy import BeamNGpy, Scenario, Vehicle"
   ],
   "metadata": {
    "collapsed": false,
    "pycharm": {
     "name": "#%%\n"
    }
   }
  },
  {
   "cell_type": "markdown",
   "source": [
    "### Abrir el simulador\n",
    "###### Esto puede llevar bastante tiempo, dependiendo del equipo."
   ],
   "metadata": {
    "collapsed": false,
    "pycharm": {
     "name": "#%% md\n"
    }
   }
  },
  {
   "cell_type": "code",
   "execution_count": 19,
   "outputs": [
    {
     "data": {
      "text/plain": "<beamngpy.beamng.BeamNGpy at 0x1fe17c7ce80>"
     },
     "execution_count": 19,
     "metadata": {},
     "output_type": "execute_result"
    }
   ],
   "source": [
    "bng = BeamNGpy(\n",
    "    # Inicia el servidor en el local host\n",
    "    'localhost',\n",
    "    # Selecciona el puerto\n",
    "    64256,\n",
    "    # Cambiar por el path de abajo al path donde se tengan\n",
    "    # Los archivos binarios de BeamNG\n",
    "    home= 'C:\\\\Users\\\\hrmha\\\\Documents\\\\BeamNG.tech\\\\BeamNG.tech.v0.21.3.0'\n",
    ")\n",
    "# Abir el simulador\n",
    "bng.open()"
   ],
   "metadata": {
    "collapsed": false,
    "pycharm": {
     "name": "#%%\n"
    }
   }
  },
  {
   "cell_type": "markdown",
   "source": [
    "### Crear el escenario y cargarlo al simulador"
   ],
   "metadata": {
    "collapsed": false,
    "pycharm": {
     "name": "#%% md\n"
    }
   }
  },
  {
   "cell_type": "code",
   "execution_count": 20,
   "outputs": [],
   "source": [
    "# Carga el escenario West Coast USA\n",
    "scenario = Scenario('west_coast_usa', 'Hola_BeamNGPY')\n",
    "# Construye el escenario mediante archivos para mostrarlo mediante el simulador\n",
    "scenario.make(bng)\n",
    "# Carga el escenario dado en la simulación y lo regresa procesado una vez terminado\n",
    "bng.load_scenario(scenario)\n",
    "# Inicia el escenario\n",
    "bng.start_scenario()"
   ],
   "metadata": {
    "collapsed": false,
    "pycharm": {
     "name": "#%%\n"
    }
   }
  },
  {
   "cell_type": "markdown",
   "source": [
    "### Crear el Vehículo que se mostrará"
   ],
   "metadata": {
    "collapsed": false,
    "pycharm": {
     "name": "#%% md\n"
    }
   }
  },
  {
   "cell_type": "code",
   "execution_count": 21,
   "outputs": [],
   "source": [
    "vehicle = Vehicle(\n",
    "    # ID del vehículo\n",
    "    'demo_vehicle',\n",
    "    # Modelo\n",
    "    model = 'pickup',\n",
    "    # Color del vehículo\n",
    "    colour='green',\n",
    "    # Licencia\n",
    "    licence='290601'\n",
    ")"
   ],
   "metadata": {
    "collapsed": false,
    "pycharm": {
     "name": "#%%\n"
    }
   }
  },
  {
   "cell_type": "markdown",
   "source": [
    "### Añadir el vehículo al escenario"
   ],
   "metadata": {
    "collapsed": false,
    "pycharm": {
     "name": "#%% md\n"
    }
   }
  },
  {
   "cell_type": "code",
   "execution_count": 22,
   "outputs": [],
   "source": [
    "scenario.add_vehicle(\n",
    "    # Objeto que querramos añadir\n",
    "    vehicle,\n",
    "    # Posición donde lo deseamos\n",
    "    pos=(568.908386, 13.4217358,  148.56546)\n",
    ")"
   ],
   "metadata": {
    "collapsed": false,
    "pycharm": {
     "name": "#%%\n"
    }
   }
  },
  {
   "cell_type": "markdown",
   "source": [
    "### Configurar la velocidad"
   ],
   "metadata": {
    "collapsed": false,
    "pycharm": {
     "name": "#%% md\n"
    }
   }
  },
  {
   "cell_type": "code",
   "execution_count": 23,
   "outputs": [
    {
     "ename": "ConnectionResetError",
     "evalue": "[WinError 10054] Se ha forzado la interrupción de una conexión existente por el host remoto",
     "output_type": "error",
     "traceback": [
      "\u001B[1;31m---------------------------------------------------------------------------\u001B[0m",
      "\u001B[1;31mConnectionResetError\u001B[0m                      Traceback (most recent call last)",
      "\u001B[1;32m<ipython-input-23-c1ff71080c7f>\u001B[0m in \u001B[0;36m<module>\u001B[1;34m\u001B[0m\n\u001B[0;32m     10\u001B[0m         \u001B[1;32mfor\u001B[0m \u001B[0mi\u001B[0m \u001B[1;32min\u001B[0m \u001B[0mrange\u001B[0m\u001B[1;33m(\u001B[0m\u001B[1;33m-\u001B[0m\u001B[1;36m100\u001B[0m\u001B[1;33m,\u001B[0m \u001B[1;36m100\u001B[0m\u001B[1;33m,\u001B[0m \u001B[1;36m1\u001B[0m\u001B[1;33m)\u001B[0m\u001B[1;33m:\u001B[0m\u001B[1;33m\u001B[0m\u001B[1;33m\u001B[0m\u001B[0m\n\u001B[0;32m     11\u001B[0m             \u001B[1;31m# Acceder al control del vehículo y establecer la dirección\u001B[0m\u001B[1;33m\u001B[0m\u001B[1;33m\u001B[0m\u001B[1;33m\u001B[0m\u001B[0m\n\u001B[1;32m---> 12\u001B[1;33m             \u001B[0mvehicle\u001B[0m\u001B[1;33m.\u001B[0m\u001B[0mcontrol\u001B[0m\u001B[1;33m(\u001B[0m\u001B[0msteering\u001B[0m\u001B[1;33m=\u001B[0m\u001B[1;33m-\u001B[0m\u001B[0mi\u001B[0m\u001B[1;33m/\u001B[0m\u001B[1;36m100\u001B[0m\u001B[1;33m)\u001B[0m\u001B[1;33m\u001B[0m\u001B[1;33m\u001B[0m\u001B[0m\n\u001B[0m\u001B[0;32m     13\u001B[0m \u001B[1;31m# Presionar Ctrl+C para salir\u001B[0m\u001B[1;33m\u001B[0m\u001B[1;33m\u001B[0m\u001B[1;33m\u001B[0m\u001B[0m\n\u001B[0;32m     14\u001B[0m \u001B[1;32mexcept\u001B[0m \u001B[0mKeyboardInterrupt\u001B[0m\u001B[1;33m:\u001B[0m\u001B[1;33m\u001B[0m\u001B[1;33m\u001B[0m\u001B[0m\n",
      "\u001B[1;32mc:\\python38\\lib\\site-packages\\beamngpy\\beamngcommon.py\u001B[0m in \u001B[0;36mack_wrapped\u001B[1;34m(*args, **kwargs)\u001B[0m\n\u001B[0;32m     57\u001B[0m         \u001B[1;32mdef\u001B[0m \u001B[0mack_wrapped\u001B[0m\u001B[1;33m(\u001B[0m\u001B[1;33m*\u001B[0m\u001B[0margs\u001B[0m\u001B[1;33m,\u001B[0m \u001B[1;33m**\u001B[0m\u001B[0mkwargs\u001B[0m\u001B[1;33m)\u001B[0m\u001B[1;33m:\u001B[0m\u001B[1;33m\u001B[0m\u001B[1;33m\u001B[0m\u001B[0m\n\u001B[0;32m     58\u001B[0m             \u001B[0mret\u001B[0m \u001B[1;33m=\u001B[0m \u001B[0mfun\u001B[0m\u001B[1;33m(\u001B[0m\u001B[1;33m*\u001B[0m\u001B[0margs\u001B[0m\u001B[1;33m,\u001B[0m \u001B[1;33m**\u001B[0m\u001B[0mkwargs\u001B[0m\u001B[1;33m)\u001B[0m\u001B[1;33m\u001B[0m\u001B[1;33m\u001B[0m\u001B[0m\n\u001B[1;32m---> 59\u001B[1;33m             \u001B[0mresp\u001B[0m \u001B[1;33m=\u001B[0m \u001B[0margs\u001B[0m\u001B[1;33m[\u001B[0m\u001B[1;36m0\u001B[0m\u001B[1;33m]\u001B[0m\u001B[1;33m.\u001B[0m\u001B[0mrecv\u001B[0m\u001B[1;33m(\u001B[0m\u001B[1;33m)\u001B[0m\u001B[1;33m\u001B[0m\u001B[1;33m\u001B[0m\u001B[0m\n\u001B[0m\u001B[0;32m     60\u001B[0m             \u001B[1;32mif\u001B[0m \u001B[0mresp\u001B[0m\u001B[1;33m[\u001B[0m\u001B[1;34m'type'\u001B[0m\u001B[1;33m]\u001B[0m \u001B[1;33m!=\u001B[0m \u001B[0mack_type\u001B[0m\u001B[1;33m:\u001B[0m\u001B[1;33m\u001B[0m\u001B[1;33m\u001B[0m\u001B[0m\n\u001B[0;32m     61\u001B[0m                 raise BNGError('Wrong ACK: {} != {}'.format(ack_type,\n",
      "\u001B[1;32mc:\\python38\\lib\\site-packages\\beamngpy\\vehicle.py\u001B[0m in \u001B[0;36mrecv\u001B[1;34m(self)\u001B[0m\n\u001B[0;32m    153\u001B[0m             \u001B[0mThe\u001B[0m \u001B[0mmessage\u001B[0m \u001B[0mreceived\u001B[0m \u001B[1;32mas\u001B[0m \u001B[0ma\u001B[0m \u001B[0mdictionary\u001B[0m\u001B[1;33m.\u001B[0m\u001B[1;33m\u001B[0m\u001B[1;33m\u001B[0m\u001B[0m\n\u001B[0;32m    154\u001B[0m         \"\"\"\n\u001B[1;32m--> 155\u001B[1;33m         \u001B[1;32mreturn\u001B[0m \u001B[0mrecv_msg\u001B[0m\u001B[1;33m(\u001B[0m\u001B[0mself\u001B[0m\u001B[1;33m.\u001B[0m\u001B[0mskt\u001B[0m\u001B[1;33m)\u001B[0m\u001B[1;33m\u001B[0m\u001B[1;33m\u001B[0m\u001B[0m\n\u001B[0m\u001B[0;32m    156\u001B[0m \u001B[1;33m\u001B[0m\u001B[0m\n\u001B[0;32m    157\u001B[0m     \u001B[1;32mdef\u001B[0m \u001B[0m_start_connection\u001B[0m\u001B[1;33m(\u001B[0m\u001B[0mself\u001B[0m\u001B[1;33m)\u001B[0m\u001B[1;33m:\u001B[0m\u001B[1;33m\u001B[0m\u001B[1;33m\u001B[0m\u001B[0m\n",
      "\u001B[1;32mc:\\python38\\lib\\site-packages\\beamngpy\\beamngcommon.py\u001B[0m in \u001B[0;36mrecv_msg\u001B[1;34m(skt)\u001B[0m\n\u001B[0;32m    168\u001B[0m         \u001B[0mThe\u001B[0m \u001B[0mdecoded\u001B[0m \u001B[0mmessage\u001B[0m\u001B[1;33m.\u001B[0m\u001B[1;33m\u001B[0m\u001B[1;33m\u001B[0m\u001B[0m\n\u001B[0;32m    169\u001B[0m     \"\"\"\n\u001B[1;32m--> 170\u001B[1;33m     \u001B[0mlength\u001B[0m \u001B[1;33m=\u001B[0m \u001B[0mskt\u001B[0m\u001B[1;33m.\u001B[0m\u001B[0mrecv\u001B[0m\u001B[1;33m(\u001B[0m\u001B[1;36m16\u001B[0m\u001B[1;33m)\u001B[0m\u001B[1;33m\u001B[0m\u001B[1;33m\u001B[0m\u001B[0m\n\u001B[0m\u001B[0;32m    171\u001B[0m     \u001B[0mlength\u001B[0m \u001B[1;33m=\u001B[0m \u001B[0mint\u001B[0m\u001B[1;33m(\u001B[0m\u001B[0mstr\u001B[0m\u001B[1;33m(\u001B[0m\u001B[0mlength\u001B[0m\u001B[1;33m,\u001B[0m \u001B[1;34m'ascii'\u001B[0m\u001B[1;33m)\u001B[0m\u001B[1;33m)\u001B[0m\u001B[1;33m\u001B[0m\u001B[1;33m\u001B[0m\u001B[0m\n\u001B[0;32m    172\u001B[0m     \u001B[0mbuf\u001B[0m \u001B[1;33m=\u001B[0m \u001B[0mbytearray\u001B[0m\u001B[1;33m(\u001B[0m\u001B[1;33m)\u001B[0m\u001B[1;33m\u001B[0m\u001B[1;33m\u001B[0m\u001B[0m\n",
      "\u001B[1;31mConnectionResetError\u001B[0m: [WinError 10054] Se ha forzado la interrupción de una conexión existente por el host remoto"
     ]
    }
   ],
   "source": [
    "# Evitar posibles problemas con el simulador\n",
    "try:\n",
    "    # Ciclo infinito para mostrar el funcionamiento\n",
    "    while True:\n",
    "        # De izquierda a derecha\n",
    "        for i in range(-100, 100, 1):\n",
    "            # Acceder al control del vehículo y establecer la dirección\n",
    "            vehicle.control(steering=i/100)\n",
    "        # De derecha a izquierda\n",
    "        for i in range(-100, 100, 1):\n",
    "            # Acceder al control del vehículo y establecer la dirección\n",
    "            vehicle.control(steering=-i/100)\n",
    "# Presionar Ctrl+C para salir\n",
    "except KeyboardInterrupt:\n",
    "    print(\"Adiós c:\")\n"
   ],
   "metadata": {
    "collapsed": false,
    "pycharm": {
     "name": "#%%\n"
    }
   }
  }
 ],
 "metadata": {
  "kernelspec": {
   "display_name": "Python 3",
   "language": "python",
   "name": "python3"
  },
  "language_info": {
   "codemirror_mode": {
    "name": "ipython",
    "version": 2
   },
   "file_extension": ".py",
   "mimetype": "text/x-python",
   "name": "python",
   "nbconvert_exporter": "python",
   "pygments_lexer": "ipython2",
   "version": "2.7.6"
  }
 },
 "nbformat": 4,
 "nbformat_minor": 0
}